{
 "cells": [
  {
   "cell_type": "code",
   "execution_count": 1,
   "metadata": {},
   "outputs": [
    {
     "name": "stdout",
     "output_type": "stream",
     "text": [
      "Java_log_orders_600519\\Tick20180502.csv\n",
      "Java_log_orders_600519\\Tran20180502.csv\n",
      "Java_log_orders_600519\\600519.SH_back_test_info_20180502.csv\n"
     ]
    }
   ],
   "source": [
    "# data prepare\n",
    "import glob,re,os,sys\n",
    "os.chdir('C:/kongjy_special/实习工作内容总结/201805-201808华泰证券/Task4/')\n",
    "sys.path.append('C:\\\\kongjy_special\\\\实习工作内容总结\\\\201805-201808华泰证券\\\\Task4')\n",
    "from matplotlib import pyplot as plt\n",
    "import pandas as pd\n",
    "import numpy as np\n",
    "import time\n",
    "import TranFeature,Tools_kjy\n",
    "import warnings\n",
    "\n",
    "warnings.filterwarnings('ignore')\n",
    "pd.options.display.width = 200\n",
    "\n",
    "# 文件名\n",
    "TickNameList = glob.glob('Java_log_orders_600519/Tick*.csv')\n",
    "TranNameList = glob.glob('Java_log_orders_600519/Tran*.csv')\n",
    "# TestName是 开平仓点 的csv，需要和Tick以及Tran保持时间对齐\n",
    "DateList = [re.search('\\d{8}',i)[0] for i in TickNameList if re.search('\\d{8}',i)]  \n",
    "TestNameFun = lambda x: \"Java_log_orders_600519\\\\600519.SH_back_test_info_\" + x +\".csv\"\n",
    "TestNameList = [TestNameFun(i) for i in DateList]\n",
    "print (TickNameList[0])\n",
    "print (TranNameList[0])\n",
    "print (TestNameList[0])\n"
   ]
  },
  {
   "cell_type": "code",
   "execution_count": 2,
   "metadata": {},
   "outputs": [
    {
     "name": "stdout",
     "output_type": "stream",
     "text": [
      "Date : 20180502 with 119 data\n",
      "_drop_Contunous costs 0.115 seconds!\n",
      "Date : 20180503 with 103 data\n",
      "_drop_Contunous costs 0.070 seconds!\n",
      "Date : 20180504 with 107 data\n",
      "_drop_Contunous costs 0.085 seconds!\n",
      "Date : 20180507 with 122 data\n",
      "_drop_Contunous costs 0.128 seconds!\n",
      "Date : 20180508 with 91 data\n",
      "_drop_Contunous costs 0.110 seconds!\n",
      "Date : 20180509 with 75 data\n",
      "_drop_Contunous costs 0.077 seconds!\n",
      "Date : 20180510 with 54 data\n",
      "_drop_Contunous costs 0.068 seconds!\n",
      "Date : 20180511 with 135 data\n",
      "_drop_Contunous costs 0.070 seconds!\n",
      "Date : 20180514 with 123 data\n",
      "_drop_Contunous costs 0.090 seconds!\n",
      "Date : 20180515 with 144 data\n",
      "_drop_Contunous costs 0.072 seconds!\n",
      "Date : 20180516 with 86 data\n",
      "_drop_Contunous costs 0.061 seconds!\n",
      "Date : 20180517 with 108 data\n",
      "_drop_Contunous costs 0.065 seconds!\n",
      "Date : 20180518 with 96 data\n",
      "_drop_Contunous costs 0.064 seconds!\n",
      "Date : 20180521 with 62 data\n",
      "_drop_Contunous costs 0.067 seconds!\n",
      "done!\n"
     ]
    }
   ],
   "source": [
    "\n",
    "# 收集所有数据\n",
    "DataSave = pd.DataFrame()\n",
    "# 数据读入 和 预处理\n",
    "for date_index in range(len(TickNameList)):\n",
    "    date = re.search('\\d{8}',TickNameList[date_index])[0]\n",
    "    tempTick = pd.read_csv(TickNameList[date_index])\n",
    "    tempTran = pd.read_csv(TranNameList[date_index])\n",
    "    tempTest = pd.read_csv(TestNameList[date_index])\n",
    "    # Tick数据处理\n",
    "    tempTick = tempTick.rename(columns={\"Unnamed: 0\":\"Timestamp\"})\n",
    "    tempTick['Timestamp'] = pd.to_datetime(tempTick['Timestamp'])\n",
    "    tempTick['median_5'] = (tempTick['Price'].rolling(window=5).median()).shift(-2).fillna(method='pad')\n",
    "    tempTick['median_5'],_ = Tools_kjy.smooth(tempTick['median_5'])\n",
    "    # 开平仓点提取\n",
    "    tickindex = tempTest[tempTest.order != \" \"].index\n",
    "    print (\"Date : %s with %s data\"%(date,len(tickindex)))\n",
    "    # # Tran 数据处理\n",
    "    tempTran = tempTran.rename(columns={\"Unnamed: 0\":\"Timestamp\"})\n",
    "    tempTran['Timestamp'] = pd.to_datetime(tempTran['Timestamp'])\n",
    "    FeatureTran = TranFeature.TranFeature(tempTran,tempTick)\n",
    "    tempTick = FeatureTran._Tran_features()\n",
    "    \n",
    "    # past change\n",
    "    def past_change(x):\n",
    "        tempTick['Past_diff'+str(x)] = tempTick['Price'].diff(x).fillna(0)\n",
    "    past_change(1);past_change(2);past_change(3);past_change(4);past_change(5);past_change(6)\n",
    "\n",
    "    # future change\n",
    "    tempTick['diff_3Tick'] = tempTick['Price'].diff(3).shift(-3).fillna(0)\n",
    "    tempTick['diff_1Tick'] = tempTick['Price'].diff(1).shift(-1).fillna(0)\n",
    "    tempTick['isadd_3Tick'] = tempTick['diff_3Tick'].apply(Tools_kjy.trinary)\n",
    "    tempTick['isadd_1Tick'] = tempTick['diff_1Tick'].apply(Tools_kjy.trinary)\n",
    "    # 开平仓点保存\n",
    "    DataSave = DataSave.append(tempTick.loc[tickindex,:])\n",
    " \n",
    "print ('done!')\n",
    "DataSave = DataSave.reset_index(drop=True)"
   ]
  },
  {
   "cell_type": "code",
   "execution_count": 20,
   "metadata": {},
   "outputs": [
    {
     "data": {
      "text/plain": [
       "Index(['Timestamp', 'AskP0', 'AskP1', 'AskP2', 'AskP3', 'AskP4', 'AskP5', 'AskP6', 'AskP7', 'AskP8', 'AskP9', 'AskV0', 'AskV1', 'AskV2', 'AskV3', 'AskV4', 'AskV5', 'AskV6', 'AskV7', 'AskV8', 'AskV9',\n",
       "       'BidP0', 'BidP1', 'BidP2', 'BidP3', 'BidP4', 'BidP5', 'BidP6', 'BidP7', 'BidP8', 'BidP9', 'BidV0', 'BidV1', 'BidV2', 'BidV3', 'BidV4', 'BidV5', 'BidV6', 'BidV7', 'BidV8', 'BidV9', 'Date',\n",
       "       'High', 'Low', 'Price', 'Time', 'Turnover', 'Volume', 'MatchItem', 'median_5', 'LowPrice', 'HighPrice', 'MedianPrice', 'CountPrice', 'MedianBid', 'MedianAsk', 'CountBid', 'CountAsk',\n",
       "       'Past_diff1', 'Past_diff2', 'Past_diff3', 'Past_diff4', 'Past_diff5', 'Past_diff6', 'diff_3Tick', 'diff_1Tick', 'isadd_3Tick', 'isadd_1Tick'],\n",
       "      dtype='object')"
      ]
     },
     "execution_count": 20,
     "metadata": {},
     "output_type": "execute_result"
    }
   ],
   "source": [
    "DataSave.columns"
   ]
  },
  {
   "cell_type": "code",
   "execution_count": 4,
   "metadata": {
    "scrolled": true
   },
   "outputs": [
    {
     "data": {
      "text/plain": [
       "(-0.302, -0.24]    310\n",
       "(-0.24, -0.18]      58\n",
       "(-0.18, -0.12]      80\n",
       "(-0.12, -0.06]      89\n",
       "(-0.06, 0.0]       235\n",
       "(0.0, 0.06]        119\n",
       "(0.06, 0.12]        87\n",
       "(0.12, 0.18]        73\n",
       "(0.18, 0.24]        77\n",
       "(0.24, 0.3]        297\n",
       "Name: diff_3Tick, dtype: int64"
      ]
     },
     "execution_count": 4,
     "metadata": {},
     "output_type": "execute_result"
    }
   ],
   "source": [
    "DataSave['diff_1Tick'] = DataSave['diff_1Tick'].clip(-0.3,0.3)\n",
    "DataSave['diff_3Tick'].value_counts(bins=10,sort=False)"
   ]
  },
  {
   "cell_type": "code",
   "execution_count": 5,
   "metadata": {},
   "outputs": [],
   "source": [
    "# 选取其中两类来研究\n",
    "# check1 : (-0.302, -0.24]    310\n",
    "# check2 : (0.24, 0.3]        297\n",
    "# check3 : (-0.06, 0.0]       235  + (0.0, 0.06]        119\n",
    "\n",
    "check1 = DataSave[DataSave['diff_3Tick'] < -0.24].index\n",
    "check2 = DataSave[DataSave['diff_3Tick'] > 0.24].index\n",
    "check3 = DataSave[DataSave['diff_3Tick'] < 0.06 ].index & DataSave[DataSave['diff_3Tick'] > -0.06].index\n",
    "DataSave['CountBid'] = DataSave['CountBid'].clip(0,12).apply(int)\n",
    "DataSave['CountAsk'] = DataSave['CountAsk'].clip(0,12).apply(int)\n",
    "\n"
   ]
  },
  {
   "cell_type": "code",
   "execution_count": 8,
   "metadata": {
    "scrolled": false
   },
   "outputs": [
    {
     "name": "stdout",
     "output_type": "stream",
     "text": [
      "降低最大的部分，占比0.218:\n",
      "     CountBid  CountAsk  diff_3Tick  diff_1Tick   Turnover  Past_diff2  Past_diff3  Past_diff4  Past_diff6\n",
      "0          12        12       -0.30        0.30  4995578.0       -1.00       -1.00       -1.30       -1.88\n",
      "2          12         3       -0.30       -0.30  9206900.0        1.97        0.50        1.50        0.50\n",
      "4           8         3       -0.30       -0.03  1617071.0       -0.50       -0.50        0.00       -1.00\n",
      "16         10        12       -0.30        0.00  3618419.0        0.50        0.70        0.50        0.70\n",
      "17         12         2       -0.30       -0.10  2271472.0       -0.76       -0.70       -0.77       -0.78\n",
      "18          6         3       -0.30       -0.10  1038269.0       -0.10       -0.86       -0.80       -0.10\n",
      "22          4         5       -0.30        0.00  1132920.0        0.00        0.49        0.49        0.10\n",
      "31          9         2       -0.30       -0.03   863175.0       -0.02       -0.01       -0.32       -1.02\n",
      "57          3        12       -0.30       -0.30  1635232.0        0.64        0.37        0.61        0.14\n",
      "58          8         2       -0.30       -0.22   392359.0       -0.64       -0.64        0.00       -0.03\n",
      "59          2         2       -0.24        0.00   261502.0       -0.22       -0.86       -0.86       -0.49\n",
      "63          4        12       -0.30        0.00  2863260.0       -0.10       -0.15       -0.95       -0.95\n",
      "66          0         2       -0.30        0.01  1434400.0       -0.90        1.40        1.39        1.40\n",
      "73          2         8       -0.30       -0.10  2143681.0       -0.02       -0.04       -0.03       -0.04\n",
      "82          0         4       -0.30        0.02   262600.0       -0.02       -0.02       -0.08       -0.09\n",
      "113         4         4       -0.30        0.00   665080.0        0.00        0.40        0.14       -0.10\n",
      "121         1        10       -0.30        0.00  1053039.0        0.85        0.80       -0.39       -0.19\n",
      "122         4         0       -0.30       -0.30   593100.0        0.00        0.85        0.80       -0.33\n",
      "128        12         1       -0.30       -0.30  3845655.0        2.31        0.55        0.31        0.50\n",
      "130         3         1       -0.30        0.00   399915.0        0.10       -0.06       -0.09       -0.13 \n",
      "\n",
      "统计这里面CountBid 的分布\n",
      "1     60\n",
      "0     55\n",
      "2     49\n",
      "3     37\n",
      "4     29\n",
      "6     18\n",
      "12    17\n",
      "5     16\n",
      "7     12\n",
      "8      6\n",
      "10     5\n",
      "9      4\n",
      "11     2\n",
      "Name: CountBid, dtype: int64 \n",
      "\n",
      "统计这里面CountAsk 的分布\n",
      "1     50\n",
      "2     43\n",
      "12    42\n",
      "3     37\n",
      "0     33\n",
      "4     28\n",
      "6     17\n",
      "5     17\n",
      "10    14\n",
      "7     11\n",
      "9      9\n",
      "11     6\n",
      "8      3\n",
      "Name: CountAsk, dtype: int64 \n",
      "\n",
      "从其中拿出CountBid 和 CountAsk为固定值的部分\n",
      "      CountBid  CountAsk  diff_3Tick  diff_1Tick   Turnover  Past_diff2  Past_diff3  Past_diff4  Past_diff6\n",
      "163          1         1       -0.30       -0.30   133645.0       -0.03        0.43        0.44        0.44\n",
      "327          1         1       -0.24       -0.09   264931.0       -0.15       -0.70       -0.70       -0.23\n",
      "763          1         1       -0.30       -0.03   431200.0        0.00       -0.06        0.12       -0.09\n",
      "764          1         1       -0.30       -0.30   143721.0        0.01       -0.36        0.00       -0.36\n",
      "823          1         1       -0.30        0.02  1240231.0       -0.02        0.58        0.08        0.38\n",
      "866          1         1       -0.30        0.00   145988.0        0.70        0.70        0.42       -0.07\n",
      "883          1         1       -0.30       -0.09   147196.0       -0.02       -0.05       -0.27       -0.31\n",
      "884          1         1       -0.30       -0.11   147178.0       -0.11       -0.11       -0.14       -0.40\n",
      "1067         1         1       -0.30       -0.30   370375.0        0.45        0.45        0.25        0.35\n",
      "1122         1         1       -0.30       -0.10   369650.0       -0.18       -0.18       -0.18       -0.37\n",
      "1305         1         1       -0.30       -0.18   217136.0       -0.21       -0.21       -0.22       -0.54\n",
      "1316         1         1       -0.27       -0.03   144704.0       -0.02       -0.33       -0.36       -0.36 \n",
      "\n"
     ]
    }
   ],
   "source": [
    "# check1 : (-0.302, -0.24]    310\n",
    "print ('降低最大的部分，占比%.3f:'%(len(check1)/DataSave.shape[0]))\n",
    "print (DataSave.loc[check1,['CountBid','CountAsk','diff_3Tick','diff_1Tick','Turnover',\n",
    "                                'Past_diff2','Past_diff3','Past_diff4','Past_diff6']].head(20),'\\n')\n",
    "\n",
    "print ('统计这里面CountBid 的分布')\n",
    "print (DataSave.loc[check1,'CountBid'].value_counts(),'\\n')\n",
    "print ('统计这里面CountAsk 的分布')\n",
    "print (DataSave.loc[check1,'CountAsk'].value_counts(),'\\n')\n",
    "\n",
    "print ('从其中拿出CountBid 和 CountAsk为固定值的部分')\n",
    "check1_BA35 = check1 & DataSave[DataSave['CountBid'] == 1].index & DataSave[DataSave['CountAsk'] == 1].index \n",
    "print (DataSave.loc[check1_BA35,['CountBid','CountAsk','diff_3Tick','diff_1Tick','Turnover',\n",
    "                                'Past_diff2','Past_diff3','Past_diff4','Past_diff6']].head(20),'\\n')"
   ]
  },
  {
   "cell_type": "code",
   "execution_count": 9,
   "metadata": {
    "scrolled": false
   },
   "outputs": [
    {
     "name": "stdout",
     "output_type": "stream",
     "text": [
      "增长最大的部分，占比0.208:\n",
      "     CountBid  CountAsk  diff_3Tick  diff_1Tick    Turnover  Past_diff2  Past_diff3  Past_diff4  Past_diff6\n",
      "1          12         9        0.30        0.30   3367505.0       -1.67       -0.67       -1.67       -1.67\n",
      "8           6         6        0.30        0.00   1678389.0       -0.10        0.00       -0.52       -0.43\n",
      "10         12         9        0.30        0.20   4004630.0       -0.30        0.00        0.10       -0.30\n",
      "11          8         8        0.30        0.26  10786985.0       -0.10       -0.10        0.20        0.30\n",
      "12         12        12        0.30        0.00  12164703.0        0.46        0.16        0.16        0.56\n",
      "14         12         6        0.30        0.00   5296722.0        0.00        0.00        0.20       -0.40\n",
      "24          9         8        0.30       -0.30   2853931.0        0.00        0.00        0.00        0.49\n",
      "34          3         6        0.30        0.30   1242679.0       -1.25        0.00        0.00        0.00\n",
      "49          0         6        0.24       -0.20    589680.0        0.19        0.20        0.12        0.51\n",
      "75         10         2        0.30        0.30   6721314.0        0.20        0.12        0.12        0.12\n",
      "76         12         3        0.30       -0.26   7638968.0        0.52        0.60        0.52        0.60\n",
      "78          1         5        0.30        0.00    458570.0       -0.06        0.00       -0.01        0.07\n",
      "85          1         1        0.25        0.18    131470.0        0.05        0.35        0.35        0.48\n",
      "89          1         0        0.30       -0.02    131540.0       -0.10        0.02       -0.05        0.12\n",
      "95          1         2        0.30        0.18    198018.0        0.00        0.12        0.54        0.62\n",
      "96          1         6        0.24       -0.18   1188408.0        0.18        0.18        0.30        0.71\n",
      "100         3         6        0.25        0.23   1524759.0       -0.25       -0.25       -0.45       -0.25\n",
      "105        12         2        0.30        0.01   2826545.0        0.11        0.17        0.11        0.12\n",
      "106        12         1        0.30        0.00   2589576.0        0.43        0.51        0.54        0.54\n",
      "107        11         2        0.30       -0.18   1203168.0        0.42        0.43        0.51        0.60 \n",
      "\n",
      "统计这里面CountBid 的分布\n",
      "12    54\n",
      "1     37\n",
      "0     32\n",
      "2     31\n",
      "3     25\n",
      "6     20\n",
      "5     20\n",
      "4     18\n",
      "8     17\n",
      "7     17\n",
      "9     13\n",
      "10     8\n",
      "11     5\n",
      "Name: CountBid, dtype: int64 \n",
      "\n",
      "统计这里面CountAsk 的分布\n",
      "2     51\n",
      "1     48\n",
      "0     38\n",
      "4     29\n",
      "3     23\n",
      "6     18\n",
      "12    17\n",
      "7     17\n",
      "5     16\n",
      "9     14\n",
      "8     12\n",
      "10    10\n",
      "11     4\n",
      "Name: CountAsk, dtype: int64 \n",
      "\n"
     ]
    }
   ],
   "source": [
    "# check2 : (0.24, 0.3]        297\n",
    "print ('增长最大的部分，占比%.3f:'%(len(check2)/DataSave.shape[0]))\n",
    "print (DataSave.loc[check2,['CountBid','CountAsk','diff_3Tick','diff_1Tick','Turnover',\n",
    "                                'Past_diff2','Past_diff3','Past_diff4','Past_diff6']].head(20),'\\n')\n",
    "\n",
    "print ('统计这里面CountBid 的分布')\n",
    "print (DataSave.loc[check2,'CountBid'].value_counts(),'\\n')\n",
    "print ('统计这里面CountAsk 的分布')\n",
    "print (DataSave.loc[check2,'CountAsk'].value_counts(),'\\n')"
   ]
  },
  {
   "cell_type": "code",
   "execution_count": 10,
   "metadata": {},
   "outputs": [
    {
     "name": "stdout",
     "output_type": "stream",
     "text": [
      "增长最少的部分，占比0.248:\n",
      "     CountBid  CountAsk  diff_3Tick  diff_1Tick    Turnover  Past_diff2  Past_diff3  Past_diff4  Past_diff6\n",
      "1          12         9        0.30        0.30   3367505.0       -1.67       -0.67       -1.67       -1.67\n",
      "8           6         6        0.30        0.00   1678389.0       -0.10        0.00       -0.52       -0.43\n",
      "10         12         9        0.30        0.20   4004630.0       -0.30        0.00        0.10       -0.30\n",
      "11          8         8        0.30        0.26  10786985.0       -0.10       -0.10        0.20        0.30\n",
      "12         12        12        0.30        0.00  12164703.0        0.46        0.16        0.16        0.56\n",
      "14         12         6        0.30        0.00   5296722.0        0.00        0.00        0.20       -0.40\n",
      "24          9         8        0.30       -0.30   2853931.0        0.00        0.00        0.00        0.49\n",
      "34          3         6        0.30        0.30   1242679.0       -1.25        0.00        0.00        0.00\n",
      "49          0         6        0.24       -0.20    589680.0        0.19        0.20        0.12        0.51\n",
      "75         10         2        0.30        0.30   6721314.0        0.20        0.12        0.12        0.12\n",
      "76         12         3        0.30       -0.26   7638968.0        0.52        0.60        0.52        0.60\n",
      "78          1         5        0.30        0.00    458570.0       -0.06        0.00       -0.01        0.07\n",
      "85          1         1        0.25        0.18    131470.0        0.05        0.35        0.35        0.48\n",
      "89          1         0        0.30       -0.02    131540.0       -0.10        0.02       -0.05        0.12\n",
      "95          1         2        0.30        0.18    198018.0        0.00        0.12        0.54        0.62\n",
      "96          1         6        0.24       -0.18   1188408.0        0.18        0.18        0.30        0.71\n",
      "100         3         6        0.25        0.23   1524759.0       -0.25       -0.25       -0.45       -0.25\n",
      "105        12         2        0.30        0.01   2826545.0        0.11        0.17        0.11        0.12\n",
      "106        12         1        0.30        0.00   2589576.0        0.43        0.51        0.54        0.54\n",
      "107        11         2        0.30       -0.18   1203168.0        0.42        0.43        0.51        0.60 \n",
      "\n",
      "统计这里面CountBid 的分布\n",
      "1     75\n",
      "0     74\n",
      "2     54\n",
      "3     38\n",
      "4     29\n",
      "12    23\n",
      "5     18\n",
      "9     10\n",
      "6     10\n",
      "8      9\n",
      "7      9\n",
      "10     3\n",
      "11     2\n",
      "Name: CountBid, dtype: int64 \n",
      "\n",
      "统计这里面CountAsk 的分布\n",
      "1     77\n",
      "0     62\n",
      "2     50\n",
      "3     45\n",
      "4     28\n",
      "5     22\n",
      "6     19\n",
      "7     18\n",
      "8     10\n",
      "12     8\n",
      "11     5\n",
      "10     5\n",
      "9      5\n",
      "Name: CountAsk, dtype: int64 \n",
      "\n"
     ]
    }
   ],
   "source": [
    "# check3 : (-0.06, 0.0]       235  + (0.0, 0.06]        119\n",
    "print ('增长最少的部分，占比%.3f:'%(len(check3)/DataSave.shape[0]))\n",
    "print (DataSave.loc[check2,['CountBid','CountAsk','diff_3Tick','diff_1Tick','Turnover',\n",
    "                                'Past_diff2','Past_diff3','Past_diff4','Past_diff6']].head(20),'\\n')\n",
    "\n",
    "print ('统计这里面CountBid 的分布')\n",
    "print (DataSave.loc[check3,'CountBid'].value_counts(),'\\n')\n",
    "print ('统计这里面CountAsk 的分布')\n",
    "print (DataSave.loc[check3,'CountAsk'].value_counts(),'\\n')"
   ]
  },
  {
   "cell_type": "code",
   "execution_count": null,
   "metadata": {
    "collapsed": true
   },
   "outputs": [],
   "source": []
  }
 ],
 "metadata": {
  "kernelspec": {
   "display_name": "Python 3",
   "language": "python",
   "name": "python3"
  },
  "language_info": {
   "codemirror_mode": {
    "name": "ipython",
    "version": 3
   },
   "file_extension": ".py",
   "mimetype": "text/x-python",
   "name": "python",
   "nbconvert_exporter": "python",
   "pygments_lexer": "ipython3",
   "version": "3.6.3"
  }
 },
 "nbformat": 4,
 "nbformat_minor": 2
}

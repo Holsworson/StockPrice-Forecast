{
 "cells": [
  {
   "cell_type": "code",
   "execution_count": 13,
   "metadata": {},
   "outputs": [
    {
     "name": "stdout",
     "output_type": "stream",
     "text": [
      "Java_log_orders_600519\\Tick20180502.csv\n",
      "Java_log_orders_600519\\Tran20180502.csv\n",
      "Java_log_orders_600519\\600519.SH_back_test_info_20180502.csv\n"
     ]
    }
   ],
   "source": [
    "# data prepare\n",
    "import glob,re,os,sys\n",
    "os.chdir('C:/kongjy_special/实习工作内容总结/201805-201808华泰证券/Task4/')\n",
    "sys.path.append('C:\\\\kongjy_special\\\\实习工作内容总结\\\\201805-201808华泰证券\\\\Task4')\n",
    "from matplotlib import pyplot as plt\n",
    "import pandas as pd\n",
    "import numpy as np\n",
    "import time\n",
    "import TranFeature,Tools_kjy\n",
    "import warnings\n",
    "\n",
    "warnings.filterwarnings('ignore')\n",
    "pd.options.display.width = 200\n",
    "\n",
    "# 文件名\n",
    "TickNameList = glob.glob('Java_log_orders_600519/Tick*.csv')\n",
    "TranNameList = glob.glob('Java_log_orders_600519/Tran*.csv')\n",
    "# TestName是 开平仓点 的csv，需要和Tick以及Tran保持时间对齐\n",
    "DateList = [re.search('\\d{8}',i)[0] for i in TickNameList if re.search('\\d{8}',i)]  \n",
    "TestNameFun = lambda x: \"Java_log_orders_600519\\\\600519.SH_back_test_info_\" + x +\".csv\"\n",
    "TestNameList = [TestNameFun(i) for i in DateList]\n",
    "print (TickNameList[0])\n",
    "print (TranNameList[0])\n",
    "print (TestNameList[0])\n"
   ]
  },
  {
   "cell_type": "code",
   "execution_count": 55,
   "metadata": {},
   "outputs": [
    {
     "name": "stdout",
     "output_type": "stream",
     "text": [
      "Date : 20180507 with 122 data\n",
      "done!\n"
     ]
    }
   ],
   "source": [
    "\n",
    "# 收集所有数据\n",
    "DataSave = pd.DataFrame()\n",
    "# 数据读入 和 预处理\n",
    "for date_index in range(len(TickNameList))[3:4]:\n",
    "    date = re.search('\\d{8}',TickNameList[date_index])[0]\n",
    "    tempTick = pd.read_csv(TickNameList[date_index])\n",
    "    tempTran = pd.read_csv(TranNameList[date_index])\n",
    "    tempTest = pd.read_csv(TestNameList[date_index])\n",
    "    # Tick数据处理\n",
    "    tempTick = tempTick.rename(columns={\"Unnamed: 0\":\"Timestamp\"})\n",
    "    tempTick['Timestamp'] = pd.to_datetime(tempTick['Timestamp'])\n",
    "    tempTick['median_5'] = (tempTick['AskP0'].rolling(window=5).median()).shift(-2).fillna(method='pad')\n",
    "    tempTick['median_5'],_ = Tools_kjy.smooth(tempTick['median_5'])\n",
    "    # 开平仓点提取\n",
    "    tickindex = tempTest[tempTest.order != \" \"].index\n",
    "    print (\"Date : %s with %s data\"%(date,len(tickindex)))\n",
    "    # # Tran 数据处理\n",
    "    tempTran = tempTran.rename(columns={\"Unnamed: 0\":\"Timestamp\"})\n",
    "    tempTran['Timestamp'] = pd.to_datetime(tempTran['Timestamp'])\n",
    "    FeatureTran = TranFeature.TranFeature(tempTran,tempTick)\n",
    "    tempTick = FeatureTran._Tran_features()\n",
    "#     tempTick = FeatureTran._Tran_energy()\n",
    "    \n",
    "    # past change\n",
    "    def past_change(x):\n",
    "        tempTick['Past_diff'+str(x)] = tempTick['AskP0'].diff(x).fillna(0)\n",
    "    past_change(1);past_change(2);past_change(3);past_change(4);past_change(5);past_change(6)\n",
    "\n",
    "    # future change\n",
    "    tempTick['diff_3Tick'] = tempTick['AskP0'].diff(3).shift(-3).fillna(0)\n",
    "    tempTick['diff_1Tick'] = tempTick['AskP0'].diff(1).shift(-1).fillna(0)\n",
    "    tempTick['isadd_3Tick'] = tempTick['diff_3Tick'].apply(Tools_kjy.trinary)\n",
    "    tempTick['isadd_1Tick'] = tempTick['diff_1Tick'].apply(Tools_kjy.trinary)\n",
    "\n",
    "    # 开平仓点保存\n",
    "    DataSave = DataSave.append(tempTick.loc[tickindex,:])\n",
    "    \n",
    " \n",
    "print ('done!')\n",
    "DataSave = DataSave.reset_index(drop=True)"
   ]
  },
  {
   "cell_type": "code",
   "execution_count": 58,
   "metadata": {
    "scrolled": false
   },
   "outputs": [
    {
     "name": "stdout",
     "output_type": "stream",
     "text": [
      "    HighPrice  LowPrice  MedianPrice  MedianBid  MedianAsk   AskP0  std5Price  diff_3Tick  diff_1Tick\n",
      "0      661.65    661.01      661.650    661.650    661.010  661.64   0.300541       -0.64       -0.64\n",
      "1      661.64    661.00      661.010    661.325    661.010  661.00   0.242803       -0.09        0.00\n",
      "2      661.00    660.94      661.000    661.000    660.940  661.00   0.028284       -0.09        0.00\n",
      "3      660.91    660.90      660.910    660.910    660.910  661.00   0.034480       -0.39       -0.09\n",
      "4      660.91    660.66      660.910    660.910    660.660  660.91   0.117851       -0.31       -0.30\n",
      "5      657.95    657.80      657.800    657.800    657.950  657.95   0.075000        0.00       -0.15\n",
      "6      657.95    657.77      657.800    657.875    657.770  657.80   0.065048        0.62        0.00\n",
      "7      657.80    657.77      657.800    657.800    657.800  657.80   0.011180        0.62        0.15\n",
      "8      658.42    657.80      657.950    658.020    657.800  657.95   0.208646        0.47        0.47\n",
      "9      657.98    657.77      657.950    657.950    657.875  658.42   0.204051        0.05        0.00\n",
      "10     658.89    658.00      658.420    658.450    658.000  658.42   0.304229       -0.17        0.00\n",
      "11     659.00    658.93      659.000    659.000    659.000  659.33   0.130724        0.54        0.01\n",
      "12     659.33    659.00      659.330    659.330    659.330  659.34   0.123783        0.59        0.48\n",
      "13     659.82    659.34      659.820    659.820    659.340  659.87   0.232839        0.53        0.06\n",
      "14     659.94    659.93      659.930    659.935    659.930  660.00   0.025235        0.70        0.40\n",
      "15     661.00    660.41      660.720    661.000    660.710  660.70   0.202210       -0.29       -0.02\n",
      "16     659.94    659.87      659.905    659.940    659.870  660.00   0.045499        1.89        0.30\n",
      "17     660.14    659.94      660.000    660.000    660.000  660.30   0.121883        1.70        0.37\n",
      "18     663.16    663.15      663.160    663.150    663.160  663.28   0.046428        0.02        0.01\n",
      "19     666.98    666.50      666.735    666.975    666.500  666.99   0.216391       -0.49       -0.05 \n",
      "\n"
     ]
    }
   ],
   "source": [
    "# 几种价格的std  ，在上面_Tran_energy 出已经生成了交易价格的熵(TickEntrophy  )和温度(MedianV_price)\n",
    "def addstd(DataSave):\n",
    "    DataSave['std5Price'] = DataSave[['HighPrice','LowPrice','MedianPrice','MedianBid','MedianAsk','AskP0']].apply(np.std,axis=1)\n",
    "addstd(DataSave)\n",
    "print (DataSave[['HighPrice','LowPrice','MedianPrice','MedianBid','MedianAsk','AskP0','std5Price','diff_3Tick','diff_1Tick']].head(20),'\\n')\n"
   ]
  },
  {
   "cell_type": "code",
   "execution_count": 59,
   "metadata": {},
   "outputs": [],
   "source": [
    "DataSave['diff_3Tick'] = DataSave['diff_3Tick'].clip(-1.0,1.0)\n",
    "DataSave['diff_1Tick'] = DataSave['diff_1Tick'].clip(-0.3,0.3)"
   ]
  },
  {
   "cell_type": "code",
   "execution_count": 64,
   "metadata": {
    "scrolled": false
   },
   "outputs": [
    {
     "name": "stdout",
     "output_type": "stream",
     "text": [
      "     std5Price   Turnover   AskP0  MedianBid  MedianAsk  Past_diff1  Past_diff2  Past_diff3  diff_3Tick  diff_1Tick\n",
      "30    0.000000    66489.0  664.89     664.89     664.89        0.00        0.19        0.19        0.11        0.07\n",
      "71    0.003727    67829.0  678.30     678.29     678.29        0.00        0.00        0.00       -0.07       -0.01\n",
      "78    0.003727   203403.0  678.02     678.01     678.01       -0.10       -0.12       -0.14       -0.01        0.26\n",
      "121   0.004488   617857.0  686.51     686.51     686.50       -0.02       -0.04       -0.06       -0.01       -0.01\n",
      "95    0.004714  1966776.0  678.20     678.20     678.19        0.00        0.21        0.23        0.30        0.12\n",
      "110   0.004714  1849767.0  685.10     685.10     685.09        0.00        0.09        0.16        0.23        0.15\n",
      "99    0.006872  3479910.0  681.01     681.00     681.00        0.02        0.03        0.03        0.10        0.04\n",
      "38    0.007454   600285.0  666.98     666.98     666.98        0.00        0.04        0.09        0.50        0.02\n",
      "94    0.007454   405072.0  675.14     675.12     675.12       -0.02       -0.02       -0.03       -0.02        0.00\n",
      "59    0.008975  1489818.0  677.20     677.20     677.18        0.02        0.05        0.20        0.57        0.05\n",
      "     CountAsk  CountBid   AskP0  MedianBid  MedianAsk  Past_diff1  Past_diff2  Past_diff3  diff_3Tick  diff_1Tick\n",
      "25        4.0       3.0  665.39    665.190     665.01       -0.02       -0.04       -0.06       -0.19        0.00\n",
      "26        3.0       6.0  664.90    664.530     664.16       -0.01       -0.01       -0.10       -0.75       -0.30\n",
      "101       3.0       5.0  680.37    680.500     680.35       -0.86       -0.91       -0.91        0.83       -0.02\n",
      "10        3.0       4.0  658.42    658.450     658.00        0.00        0.47        0.62       -0.17        0.00\n",
      "0         1.0       7.0  661.64    661.650     661.01       -0.01       -0.01       -0.01       -0.64       -0.30\n",
      "48        1.0       3.0  673.80    673.780     673.80       -0.10       -0.10       -0.16        0.05       -0.02\n",
      "28        3.0       4.0  664.70    664.700     664.22        0.00        0.00       -0.19        0.26        0.19\n",
      "1         8.0       4.0  661.00    661.325     661.01       -0.64       -0.65       -0.65       -0.09        0.00\n",
      "13        1.0       3.0  659.87    659.820     659.34        0.05        0.53        0.54        0.53        0.06\n",
      "22        5.0       2.0  665.45    665.450     665.00        0.00       -0.05       -0.32       -0.06       -0.02\n"
     ]
    }
   ],
   "source": [
    "# std较小的时候，价格的变化\n",
    "check1 = DataSave['std5Price'].nsmallest(20).index  \n",
    "print (DataSave.loc[check1,['std5Price','Turnover','AskP0','MedianBid','MedianAsk','Past_diff1','Past_diff2','Past_diff3','diff_3Tick','diff_1Tick']].head(10))\n",
    "\n",
    "# print ('std较小的时候，diff_3Tick的变化:\\n',DataSave.loc[check1,'diff_3Tick'].describe(),'\\n')\n",
    "# print ('std较小的时候，diff_1Tick的变化:\\n',DataSave.loc[check1,'diff_1Tick'].describe(),'\\n')\n",
    "# print ('std较小的时候，Past_diff1的变化:\\n',DataSave.loc[check1,'Past_diff1'].describe(),'\\n')\n",
    "\n",
    "# std较大的时候，价格的变化\n",
    "check2 = DataSave['std5Price'].nlargest(20).index \n",
    "print (DataSave.loc[check2,['CountAsk','CountBid','AskP0','MedianBid','MedianAsk','Past_diff1','Past_diff2','Past_diff3','diff_3Tick','diff_1Tick']].head(10))\n",
    "\n",
    "# print ('std较大的时候，diff_3Tick的变化:\\n',DataSave.loc[check2,'diff_3Tick'].describe(),'\\n')\n",
    "# print ('std较大的时候，diff_1Tick的变化:\\n',DataSave.loc[check2,'diff_1Tick'].describe(),'\\n')\n",
    "# print ('std较大的时候，Past_diff1的变化:\\n',DataSave.loc[check2,'Past_diff1'].describe(),'\\n')"
   ]
  },
  {
   "cell_type": "code",
   "execution_count": 22,
   "metadata": {},
   "outputs": [
    {
     "data": {
      "text/plain": [
       "count    4730.000000\n",
       "mean        5.543683\n",
       "std         8.687384\n",
       "min         0.000000\n",
       "25%         0.093169\n",
       "50%         2.307144\n",
       "75%         7.277128\n",
       "max       110.000000\n",
       "Name: std5Price, dtype: float64"
      ]
     },
     "execution_count": 22,
     "metadata": {},
     "output_type": "execute_result"
    }
   ],
   "source": [
    "tempTick['std5Price'] = tempTick[['HighPrice','LowPrice','MedianPrice','MedianBid','MedianAsk','Price']].apply(np.std,axis=1) * 100\n",
    "tempTick.std5Price.describe()"
   ]
  },
  {
   "cell_type": "code",
   "execution_count": 23,
   "metadata": {},
   "outputs": [
    {
     "name": "stdout",
     "output_type": "stream",
     "text": [
      "    Price  PriceShift1  std5Price  Past_diff1  diff_3Tick  diff_1Tick\n",
      "0  661.69          NaN  93.809500        0.00        1.00        0.00\n",
      "1  661.69          NaN  78.724555        0.00        1.00        0.30\n",
      "2  662.00          NaN  11.553018        0.31        0.88        0.30\n",
      "3  662.87          NaN  69.090922        0.87        0.00        0.00\n",
      "4  662.87          NaN   0.000000        0.00        0.01        0.01 \n",
      "\n"
     ]
    },
    {
     "data": {
      "image/png": "[encoded data removed]",
      "text/plain": [
       "<matplotlib.figure.Figure at 0x1495e03a8d0>"
      ]
     },
     "metadata": {},
     "output_type": "display_data"
    }
   ],
   "source": [
    "tempTick['diff_1Tick'] = tempTick['diff_1Tick'].clip(-0.3,0.3)\n",
    "tempTick['diff_3Tick'] = tempTick['diff_3Tick'].clip(-1.0,1.0)\n",
    "print (tempTick.loc[:,['Price','PriceShift1','std5Price',\\\n",
    "                            'Past_diff1','diff_3Tick','diff_1Tick']].head(),'\\n')\n",
    "\n",
    "check1 = tempTick[tempTick['std5Price'] < tempTick['std5Price'].mean()].index \n",
    "check2 = tempTick[tempTick['std5Price'] > tempTick['std5Price'].mean()].index \n",
    "# print (tempTick.diff_3Tick.value_counts(bins=20,sort=False))\n",
    "# print (tempTick.loc[check1,'diff_3Tick'].value_counts(bins=20,sort=False))\n",
    "plt.hist(tempTick.loc[:,'diff_3Tick'])\n",
    "plt.hist(tempTick.loc[check1,'diff_3Tick'])\n",
    "plt.hist(tempTick.loc[check2,'diff_3Tick'])\n",
    "plt.show()"
   ]
  },
  {
   "cell_type": "code",
   "execution_count": 24,
   "metadata": {
    "scrolled": false
   },
   "outputs": [
    {
     "name": "stdout",
     "output_type": "stream",
     "text": [
      "     PriceTempera   Price  Past_diff1  Past_diff2  Past_diff3  diff_1Tick  diff_3Tick  CountPrice\n",
      "4             NaN  662.87        0.00        0.87        1.18        0.01        0.01         2.0\n",
      "32            NaN  660.00        0.00       -1.00       -1.99        0.10        1.00         NaN\n",
      "35            NaN  661.00        0.00        0.90        1.00        0.30       -0.85         1.0\n",
      "62            NaN  661.52       -0.05       -0.18       -0.10        0.25        0.18         1.0\n",
      "77            NaN  662.50        0.52        0.50        0.67       -0.30       -0.85         2.0\n",
      "80            NaN  661.65        0.00       -0.35       -0.85       -0.30       -0.65         4.0\n",
      "88            NaN  660.66       -0.25       -0.25       -0.24       -0.05       -0.34         5.0\n",
      "125           NaN  658.00        0.00        0.00        0.00        0.11        0.00        12.0\n",
      "127           NaN  658.25        0.14        0.25        0.25       -0.25        0.00         2.0\n",
      "148           NaN  660.40        0.38        0.47        0.53        0.01        0.60         5.0\n",
      "151           NaN  661.00        0.30        0.59        0.60        0.30        0.09         4.0\n",
      "156           NaN  661.50        0.00        0.41        0.42       -0.30       -0.50         3.0\n",
      "166           NaN  660.41        0.11        0.00       -0.31       -0.01       -0.40         1.0\n",
      "167           NaN  660.40       -0.01        0.10       -0.01       -0.30       -0.40         1.0\n",
      "177           NaN  659.87        0.00        0.87       -0.13        0.00       -0.17         1.0\n",
      "178           NaN  659.87        0.00        0.00        0.87        0.02        0.00         1.0\n",
      "181           NaN  659.87        0.17       -0.02        0.00       -0.17       -0.17         2.0\n",
      "201           NaN  662.00        0.11        0.11        1.51        0.30        0.98         9.0\n",
      "245           NaN  664.44        0.24        0.89        0.89        0.00        0.00         2.0\n",
      "287           NaN  666.86        0.02        0.06        0.06        0.14        0.01         3.0\n"
     ]
    }
   ],
   "source": [
    "# 选点个std5Price 较小的区域\n",
    "check_std5_S = tempTick.std5Price.nsmallest(400).index\n",
    "print (tempTick.loc[check_std5_S,['PriceTempera','Price','Past_diff1','Past_diff2','Past_diff3','diff_1Tick','diff_3Tick','CountPrice']].head(20))"
   ]
  },
  {
   "cell_type": "code",
   "execution_count": 29,
   "metadata": {
    "scrolled": true
   },
   "outputs": [],
   "source": [
    "# std5Price 对价格变化的影响\n",
    "%matplotlib qt5\n",
    "plt.plot(tempTick.std5Price)\n",
    "plt.twinx()\n",
    "plt.plot(tempTick.Price,c='r')\n",
    "plt.show()"
   ]
  },
  {
   "cell_type": "code",
   "execution_count": 27,
   "metadata": {},
   "outputs": [
    {
     "ename": "AttributeError",
     "evalue": "'DataFrame' object has no attribute 'TickEntrophy'",
     "output_type": "error",
     "traceback": [
      "\u001b[1;31m---------------------------------------------------------------------------\u001b[0m",
      "\u001b[1;31mAttributeError\u001b[0m                            Traceback (most recent call last)",
      "\u001b[1;32m<ipython-input-27-73a0622daeb3>\u001b[0m in \u001b[0;36m<module>\u001b[1;34m()\u001b[0m\n\u001b[0;32m      1\u001b[0m \u001b[1;31m# entrophy 对价格变化的影响\u001b[0m\u001b[1;33m\u001b[0m\u001b[1;33m\u001b[0m\u001b[0m\n\u001b[0;32m      2\u001b[0m \u001b[0mget_ipython\u001b[0m\u001b[1;33m(\u001b[0m\u001b[1;33m)\u001b[0m\u001b[1;33m.\u001b[0m\u001b[0mmagic\u001b[0m\u001b[1;33m(\u001b[0m\u001b[1;34m'matplotlib qt5'\u001b[0m\u001b[1;33m)\u001b[0m\u001b[1;33m\u001b[0m\u001b[0m\n\u001b[1;32m----> 3\u001b[1;33m \u001b[0mplt\u001b[0m\u001b[1;33m.\u001b[0m\u001b[0mplot\u001b[0m\u001b[1;33m(\u001b[0m\u001b[0mtempTick\u001b[0m\u001b[1;33m.\u001b[0m\u001b[0mTickEntrophy\u001b[0m\u001b[1;33m)\u001b[0m\u001b[1;33m\u001b[0m\u001b[0m\n\u001b[0m\u001b[0;32m      4\u001b[0m \u001b[0mplt\u001b[0m\u001b[1;33m.\u001b[0m\u001b[0mtwinx\u001b[0m\u001b[1;33m(\u001b[0m\u001b[1;33m)\u001b[0m\u001b[1;33m\u001b[0m\u001b[0m\n\u001b[0;32m      5\u001b[0m \u001b[0mplt\u001b[0m\u001b[1;33m.\u001b[0m\u001b[0mplot\u001b[0m\u001b[1;33m(\u001b[0m\u001b[0mtempTick\u001b[0m\u001b[1;33m.\u001b[0m\u001b[0mPrice\u001b[0m\u001b[1;33m,\u001b[0m\u001b[0mc\u001b[0m\u001b[1;33m=\u001b[0m\u001b[1;34m'r'\u001b[0m\u001b[1;33m)\u001b[0m\u001b[1;33m\u001b[0m\u001b[0m\n",
      "\u001b[1;32mC:\\kongjy_special\\anaconda3\\lib\\site-packages\\pandas\\core\\generic.py\u001b[0m in \u001b[0;36m__getattr__\u001b[1;34m(self, name)\u001b[0m\n\u001b[0;32m   3079\u001b[0m             \u001b[1;32mif\u001b[0m \u001b[0mname\u001b[0m \u001b[1;32min\u001b[0m \u001b[0mself\u001b[0m\u001b[1;33m.\u001b[0m\u001b[0m_info_axis\u001b[0m\u001b[1;33m:\u001b[0m\u001b[1;33m\u001b[0m\u001b[0m\n\u001b[0;32m   3080\u001b[0m                 \u001b[1;32mreturn\u001b[0m \u001b[0mself\u001b[0m\u001b[1;33m[\u001b[0m\u001b[0mname\u001b[0m\u001b[1;33m]\u001b[0m\u001b[1;33m\u001b[0m\u001b[0m\n\u001b[1;32m-> 3081\u001b[1;33m             \u001b[1;32mreturn\u001b[0m \u001b[0mobject\u001b[0m\u001b[1;33m.\u001b[0m\u001b[0m__getattribute__\u001b[0m\u001b[1;33m(\u001b[0m\u001b[0mself\u001b[0m\u001b[1;33m,\u001b[0m \u001b[0mname\u001b[0m\u001b[1;33m)\u001b[0m\u001b[1;33m\u001b[0m\u001b[0m\n\u001b[0m\u001b[0;32m   3082\u001b[0m \u001b[1;33m\u001b[0m\u001b[0m\n\u001b[0;32m   3083\u001b[0m     \u001b[1;32mdef\u001b[0m \u001b[0m__setattr__\u001b[0m\u001b[1;33m(\u001b[0m\u001b[0mself\u001b[0m\u001b[1;33m,\u001b[0m \u001b[0mname\u001b[0m\u001b[1;33m,\u001b[0m \u001b[0mvalue\u001b[0m\u001b[1;33m)\u001b[0m\u001b[1;33m:\u001b[0m\u001b[1;33m\u001b[0m\u001b[0m\n",
      "\u001b[1;31mAttributeError\u001b[0m: 'DataFrame' object has no attribute 'TickEntrophy'"
     ]
    }
   ],
   "source": [
    "# entrophy 对价格变化的影响\n",
    "%matplotlib qt5\n",
    "plt.plot(tempTick.TickEntrophy)\n",
    "plt.twinx()\n",
    "plt.plot(tempTick.Price,c='r')\n",
    "plt.show()"
   ]
  },
  {
   "cell_type": "code",
   "execution_count": 32,
   "metadata": {
    "collapsed": true
   },
   "outputs": [],
   "source": [
    "check1 = tempTick.Price.nsmallest(200).index\n",
    "plt.plot(check1,)"
   ]
  }
 ],
 "metadata": {
  "kernelspec": {
   "display_name": "Python 3",
   "language": "python",
   "name": "python3"
  },
  "language_info": {
   "codemirror_mode": {
    "name": "ipython",
    "version": 3
   },
   "file_extension": ".py",
   "mimetype": "text/x-python",
   "name": "python",
   "nbconvert_exporter": "python",
   "pygments_lexer": "ipython3",
   "version": "3.6.3"
  }
 },
 "nbformat": 4,
 "nbformat_minor": 2
}

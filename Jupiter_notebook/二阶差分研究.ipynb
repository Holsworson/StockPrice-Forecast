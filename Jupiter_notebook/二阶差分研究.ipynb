{
 "cells": [
  {
   "cell_type": "code",
   "execution_count": 12,
   "metadata": {},
   "outputs": [
    {
     "name": "stdout",
     "output_type": "stream",
     "text": [
      "Java_log_orders_600519\\Tick20180502.csv\n",
      "Java_log_orders_600519\\Tran20180502.csv\n",
      "Java_log_orders_600519\\600519.SH_back_test_info_20180502.csv\n"
     ]
    }
   ],
   "source": [
    "# data prepare\n",
    "import glob,re,os,sys\n",
    "os.chdir('C:/kongjy_special/实习工作内容总结/201805-201808华泰证券/Task4/')\n",
    "sys.path.append('C:\\\\kongjy_special\\\\实习工作内容总结\\\\201805-201808华泰证券\\\\Task4')\n",
    "from matplotlib import pyplot as plt\n",
    "import pandas as pd\n",
    "import time\n",
    "import TranFeature,Tools_kjy\n",
    "import warnings\n",
    "\n",
    "warnings.filterwarnings('ignore')\n",
    "pd.options.display.width = 200\n",
    "\n",
    "# 文件名\n",
    "TickNameList = glob.glob('Java_log_orders_600519/Tick*.csv')\n",
    "TranNameList = glob.glob('Java_log_orders_600519/Tran*.csv')\n",
    "# TestName是 开平仓点 的csv，需要和Tick以及Tran保持时间对齐\n",
    "DateList = [re.search('\\d{8}',i)[0] for i in TickNameList if re.search('\\d{8}',i)]  \n",
    "TestNameFun = lambda x: \"Java_log_orders_600519\\\\600519.SH_back_test_info_\" + x +\".csv\"\n",
    "TestNameList = [TestNameFun(i) for i in DateList]\n",
    "print (TickNameList[0])\n",
    "print (TranNameList[0])\n",
    "print (TestNameList[0])\n"
   ]
  },
  {
   "cell_type": "code",
   "execution_count": 23,
   "metadata": {},
   "outputs": [
    {
     "name": "stdout",
     "output_type": "stream",
     "text": [
      "Java_log_orders_600519\\Tick20180509.csv\n",
      "Java_log_orders_600519\\Tran20180509.csv\n",
      "Java_log_orders_600519\\600519.SH_back_test_info_20180509.csv\n",
      "Date : 20180509\n",
      "_drop_Contunous costs 0.071 seconds!\n",
      "    Volume  MatchItem  median_5  LowPrice  HighPrice  MedianPrice  CountPrice  MedianBid  MedianAsk  CountBid  CountAsk\n",
      "0   1900.0        212       NaN    710.51     712.00      711.000        11.0    711.510    710.555       9.0       2.0\n",
      "1    400.0        216       NaN    711.00     712.28      711.705         4.0    712.280    711.510       1.0       3.0\n",
      "2    500.0        221    711.53    711.53     711.90      711.900         5.0    711.530    711.900       2.0       3.0\n",
      "3    300.0        224    711.45    711.01     711.01      711.010         3.0    711.010    711.010       0.0       3.0\n",
      "4    300.0        227    711.45    711.02     711.45      711.450         3.0    711.450    711.020       2.0       1.0\n",
      "5   1900.0        238    711.53    711.01     711.90      711.500        11.0    711.530    711.500       4.0       7.0\n",
      "6   1400.0        246    711.75    711.07     711.90      711.500         8.0    711.500    711.450       5.0       3.0\n",
      "7   1200.0        256    711.75    711.02     711.81      711.260        10.0    711.500    711.020       4.0       6.0\n",
      "8   2400.0        270    711.75    711.05     711.90      711.515        14.0    711.750    711.050       7.0       7.0\n",
      "9    200.0        272    711.75    711.07     711.50      711.285         2.0    711.500    711.070       1.0       1.0\n",
      "10  5200.0        280    711.60    711.02     711.60      711.300         8.0    711.600    711.070       1.0       7.0\n",
      "11  1300.0        287    711.60    711.53     711.88      711.750         7.0    711.705    711.750       2.0       5.0\n",
      "12  2800.0        305    711.80    711.45     711.99      711.900        18.0    711.900    711.715       6.0      12.0\n",
      "13  2700.0        315    711.80    711.02     711.75      711.515        10.0    711.530    711.050       5.0       5.0\n",
      "14   300.0        317    711.80    711.75     711.75      711.750         2.0    711.750    711.750       0.0       2.0\n",
      "15  1400.0        323    711.80    711.75     711.88      711.750         6.0    711.840    711.750       2.0       4.0\n",
      "16   600.0        329    711.80    711.75     711.80      711.775         6.0    711.775    711.750       6.0       0.0\n",
      "17  1000.0        336    711.80    711.80     711.90      711.880         7.0    711.890    711.880       6.0       1.0\n",
      "18  1500.0        344    711.80    711.60     711.90      711.845         8.0    711.900    711.600       7.0       1.0\n",
      "19   300.0        347    711.90    711.70     711.70      711.700         3.0    711.700    711.700       3.0       0.0\n"
     ]
    }
   ],
   "source": [
    "# 数据读入 和 预处理\n",
    "date_index = 5\n",
    "date = re.search('\\d{8}',TickNameList[date_index])[0]\n",
    "tempTick = pd.read_csv(TickNameList[date_index])\n",
    "tempTran = pd.read_csv(TranNameList[date_index])\n",
    "tempTest = pd.read_csv(TestNameList[date_index])\n",
    "print (TickNameList[date_index])\n",
    "print (TranNameList[date_index])\n",
    "print (TestNameList[date_index])\n",
    "# Tick数据处理\n",
    "tempTick = tempTick.rename(columns={\"Unnamed: 0\":\"Timestamp\"})\n",
    "tempTick['Timestamp'] = pd.to_datetime(tempTick['Timestamp'])\n",
    "tempTick['median_5'] = (tempTick['AskP0'].rolling(window=5).median()).shift(-2).fillna(method='pad')\n",
    "tempTick['median_5'],_ = Tools_kjy.smooth(tempTick['median_5'])\n",
    "# 开平仓点提取\n",
    "tickindex = tempTest[tempTest.order != \" \"].index\n",
    "print (\"Date : %s\"%(date))\n",
    "# # Tran 数据处理\n",
    "tempTran = tempTran.rename(columns={\"Unnamed: 0\":\"Timestamp\"})\n",
    "tempTran['Timestamp'] = pd.to_datetime(tempTran['Timestamp'])\n",
    "FeatureTran = TranFeature.TranFeature(tempTran,tempTick)\n",
    "tempTick = FeatureTran._Tran_features()\n",
    "\n",
    "print (tempTick.iloc[:20,-11:])"
   ]
  },
  {
   "cell_type": "code",
   "execution_count": 4,
   "metadata": {},
   "outputs": [
    {
     "name": "stdout",
     "output_type": "stream",
     "text": [
      "单因子PastTrend1，全局正确率:0.314，下单点正确率:0.587。\n",
      "单因子PastTrend2，全局正确率:0.354，下单点正确率:0.760。\n",
      "单因子PastTrend3，全局正确率:0.370，下单点正确率:0.867。\n",
      "单因子PastTrend4，全局正确率:0.387，下单点正确率:0.907。\n",
      "单因子PastTrend5，全局正确率:0.398，下单点正确率:0.827。\n",
      "单因子PastTrend6，全局正确率:0.410，下单点正确率:0.827。\n",
      "单因子PastTrend7，全局正确率:0.409，下单点正确率:0.800。\n",
      "单因子PastTrend8，全局正确率:0.410，下单点正确率:0.773。\n",
      "单因子PastTrend9，全局正确率:0.413，下单点正确率:0.800。\n",
      "单因子PastTrend10，全局正确率:0.423，下单点正确率:0.800。\n",
      "单因子PastTrend11，全局正确率:0.431，下单点正确率:0.787。\n",
      "单因子PastTrend1_weight，全局正确率:0.314，下单点正确率:0.587。\n",
      "单因子PastTrend2_weight，全局正确率:0.354，下单点正确率:0.720。\n",
      "单因子PastTrend3_weight，全局正确率:0.372，下单点正确率:0.813。\n",
      "单因子PastTrend4_weight，全局正确率:0.383，下单点正确率:0.867。\n",
      "单因子PastTrend5_weight，全局正确率:0.390，下单点正确率:0.880。\n",
      "单因子PastTrend6_weight，全局正确率:0.394，下单点正确率:0.893。\n",
      "单因子PastTrend7_weight，全局正确率:0.396，下单点正确率:0.907。\n",
      "单因子PastTrend8_weight，全局正确率:0.397，下单点正确率:0.907。\n",
      "单因子PastTrend9_weight，全局正确率:0.397，下单点正确率:0.893。\n",
      "单因子PastTrend10_weight，全局正确率:0.397，下单点正确率:0.893。\n",
      "单因子PastTrend11_weight，全局正确率:0.400，下单点正确率:0.880。\n"
     ]
    }
   ],
   "source": [
    "# 分数判断函数 -- 全局 + 下单位点\n",
    "# 输出全局的正确率 和 下单点的正确率\n",
    "def OutScore(x, y):\n",
    "    '''    x : 测试的单因子，    y : 待预测的量     '''\n",
    "    Trueindex  = tempTick[tempTick.loc[:,x] == tempTick.loc[:,y]].index\n",
    "    Trueindex_Order = Trueindex & tickindex\n",
    "    TotalScore = Trueindex.shape[0] / tempTick.shape[0]\n",
    "    OrderScore = Trueindex_Order.shape[0] / tickindex.shape[0]\n",
    "    print(\"单因子%s，全局正确率:%.3f，下单点正确率:%.3f。\"%(x,TotalScore,OrderScore))\n",
    "\n",
    "def normal(periods):\n",
    "    argName = 'PastTrend' + str(periods)\n",
    "    tempTick[argName]  = tempTick['diff1'].rolling(window=periods,min_periods=1).sum().apply(Tools_kjy.trinary)\n",
    "    OutScore(argName,'isadd_3Tick')\n",
    "\n",
    "def weighted(periods):\n",
    "    time_weights = [date_i * date_i for date_i in range(1,periods+1)]\n",
    "    tempTick['PastTrend'+str(periods)+'_weight'] = tempTick['diff1'].rolling(window=periods).\\\n",
    "                                apply(lambda x:pd.np.multiply(x,time_weights).sum()/sum(time_weights)).apply(Tools_kjy.trinary)\n",
    "    OutScore('PastTrend'+str(periods)+'_weight','isadd_3Tick')\n",
    "\n",
    "# 采用过去几个Tick价格的变化 预测 将来3Tick的价格变化\n",
    "# y -- 3Tick后的价格变化\n",
    "tempTick['isadd_3Tick'] = tempTick['BidP0'].diff(3).shift(-3).fillna(0).apply(Tools_kjy.trinary)\n",
    "tempTick['isadd_1Tick'] = tempTick['BidP0'].diff(1).shift(-1).fillna(0).apply(Tools_kjy.trinary)\n",
    "\n",
    "# x -- 过去价格单因子\n",
    "tempTick['diff1'] = tempTick['BidP0'].diff().fillna(0)\n",
    "normal(1);normal(2);normal(3);normal(4);normal(5);normal(6);normal(7);normal(8);normal(9);normal(10);normal(11)\n",
    "weighted(1);weighted(2);weighted(3);weighted(4);weighted(5);weighted(6);weighted(7);weighted(8);weighted(9);weighted(10);weighted(11)\n"
   ]
  },
  {
   "cell_type": "code",
   "execution_count": 5,
   "metadata": {},
   "outputs": [
    {
     "data": {
      "image/png": "[encoded data removed]",
      "text/plain": [
       "<matplotlib.figure.Figure at 0x25fe9a1e0b8>"
      ]
     },
     "metadata": {},
     "output_type": "display_data"
    },
    {
     "name": "stdout",
     "output_type": "stream",
     "text": [
      "单因子NextDiff，全局正确率:0.328，下单点正确率:0.480。\n",
      "\n",
      "\n"
     ]
    },
    {
     "data": {
      "text/html": [
       "<div>\n",
       "<style>\n",
       "    .dataframe thead tr:only-child th {\n",
       "        text-align: right;\n",
       "    }\n",
       "\n",
       "    .dataframe thead th {\n",
       "        text-align: left;\n",
       "    }\n",
       "\n",
       "    .dataframe tbody tr th {\n",
       "        vertical-align: top;\n",
       "    }\n",
       "</style>\n",
       "<table border=\"1\" class=\"dataframe\">\n",
       "  <thead>\n",
       "    <tr style=\"text-align: right;\">\n",
       "      <th></th>\n",
       "      <th>NextDiff</th>\n",
       "      <th>KneePoint</th>\n",
       "      <th>isadd_3Tick</th>\n",
       "    </tr>\n",
       "  </thead>\n",
       "  <tbody>\n",
       "    <tr>\n",
       "      <th>0</th>\n",
       "      <td>NaN</td>\n",
       "      <td>0.00</td>\n",
       "      <td>0</td>\n",
       "    </tr>\n",
       "    <tr>\n",
       "      <th>1</th>\n",
       "      <td>NaN</td>\n",
       "      <td>0.00</td>\n",
       "      <td>2</td>\n",
       "    </tr>\n",
       "    <tr>\n",
       "      <th>2</th>\n",
       "      <td>NaN</td>\n",
       "      <td>0.00</td>\n",
       "      <td>1</td>\n",
       "    </tr>\n",
       "    <tr>\n",
       "      <th>3</th>\n",
       "      <td>0.0</td>\n",
       "      <td>0.00</td>\n",
       "      <td>2</td>\n",
       "    </tr>\n",
       "    <tr>\n",
       "      <th>4</th>\n",
       "      <td>2.0</td>\n",
       "      <td>0.08</td>\n",
       "      <td>0</td>\n",
       "    </tr>\n",
       "  </tbody>\n",
       "</table>\n",
       "</div>"
      ],
      "text/plain": [
       "   NextDiff  KneePoint  isadd_3Tick\n",
       "0       NaN       0.00            0\n",
       "1       NaN       0.00            2\n",
       "2       NaN       0.00            1\n",
       "3       0.0       0.00            2\n",
       "4       2.0       0.08            0"
      ]
     },
     "execution_count": 5,
     "metadata": {},
     "output_type": "execute_result"
    }
   ],
   "source": [
    "# Median5二阶差分研究 , 并研究二阶差分 在图片上的点\n",
    "\n",
    "tempTick['KneePoint'] = tempTick['median_5'].diff().diff().fillna(0)\n",
    "    #对下一个点的估计是一阶差分 + 二阶差分\n",
    "tempTick['NextDiff'] = (tempTick['median_5'].diff() + tempTick['KneePoint']).apply(Tools_kjy.trinary)\n",
    "Tools_kjy.scatter_classification(tempTick,'KneePoint','median_5')\n",
    "plt.show()\n",
    "\n",
    "# 输出得分\n",
    "OutScore('NextDiff','isadd_3Tick')\n",
    "print (\"\\n\")\n",
    "tempTick[['NextDiff','KneePoint','isadd_3Tick']].head(5)\n",
    "\n",
    "\n",
    "# 结论： 二阶差分现在暂时做不出结论"
   ]
  },
  {
   "cell_type": "code",
   "execution_count": 6,
   "metadata": {},
   "outputs": [
    {
     "name": "stdout",
     "output_type": "stream",
     "text": [
      "等体量价格因子done\n",
      "All done!\n"
     ]
    }
   ],
   "source": [
    "# 对Trans的数据进行特征提取\n",
    "# 在tempTran已经提取了一系列特征，包括如下：\n",
    "# 1. 1Tick内的买卖方市场的中位数价格MedianAsk & MedianBid\n",
    "# 2. 1Tick内的买卖方市场的交易手数目CountBid  & CountAsk\n",
    "# 3. 1Tick内的买卖方市场 按Volume计算的25%和75%价格\n",
    "# 4. 需要计算多个rolling Tick内以上\n",
    "\n",
    "# 下面提取的特征是针对时间序列的\n",
    "# 盘口等量\n",
    "tempTran.head()\n",
    "Tools_kjy.cumsum(tempTick)\n",
    "Tools_kjy.findequal(tempTick,5)\n",
    "Tools_kjy.findequal(tempTick,10)\n",
    "Tools_kjy.findequal(tempTick,15)\n",
    "Tools_kjy.findequal(tempTick,20)\n",
    "Tools_kjy.findequal(tempTick,25)\n",
    "print ('等体量价格因子done')\n",
    "Tools_kjy.BidAskPower(tempTick,\"Bid\")\n",
    "Tools_kjy.BidAskPower(tempTick,\"Ask\")\n",
    "tempTick['TRAN_P1'] = (-tempTick['BidStrength'] + tempTick['AskStrength']).apply(Tools_kjy.trinary)\n",
    "# 盘口 买方 卖方强度因子 \n",
    "Tools_kjy.BidAskPower2(tempTick,\"Bid\")\n",
    "Tools_kjy.BidAskPower2(tempTick,\"Ask\")\n",
    "tempTick['TRAN_P2'] = (-tempTick['BidStrength2'] + tempTick['AskStrength2']).apply(Tools_kjy.trinary)\n",
    "# 时间尺度上 等量 买方 卖方强度因子 \n",
    "periods = 6\n",
    "Tools_kjy.BidAskTime(tempTick,\"Bid\",periods)\n",
    "Tools_kjy.BidAskTime(tempTick,\"Ask\",periods)\n",
    "tempTick['TRAN_P3'] = (-tempTick['BidStrength'+str(periods)]  + tempTick['AskStrength'+str(periods)]).apply(Tools_kjy.trinary)\n",
    "# 时间尺度上 盘口 买方 卖方强度因子 \n",
    "periods = 6\n",
    "Tools_kjy.BidAskTime2(tempTick,\"Bid\",periods)\n",
    "Tools_kjy.BidAskTime2(tempTick,\"Ask\",periods)\n",
    "tempTick['TRAN_P4'] = (-tempTick['BidStrength2'+str(periods)] + tempTick['AskStrength2'+str(periods)]).apply(Tools_kjy.trinary)\n",
    "print ('All done!')\n"
   ]
  },
  {
   "cell_type": "code",
   "execution_count": 12,
   "metadata": {},
   "outputs": [
    {
     "name": "stdout",
     "output_type": "stream",
     "text": [
      "单因子TRAN_P1，全局正确率:0.343，下单点正确率:0.733。\n",
      "单因子TRAN_P2，全局正确率:0.299，下单点正确率:0.547。\n",
      "单因子TRAN_P3，全局正确率:0.310，下单点正确率:0.533。\n",
      "单因子TRAN_P4，全局正确率:0.310，下单点正确率:0.533。\n"
     ]
    }
   ],
   "source": [
    "OutScore('TRAN_P1','isadd_3Tick')\n",
    "OutScore('TRAN_P2','isadd_3Tick')\n",
    "OutScore('TRAN_P3','isadd_3Tick')\n",
    "OutScore('TRAN_P4','isadd_3Tick')"
   ]
  },
  {
   "cell_type": "code",
   "execution_count": 7,
   "metadata": {},
   "outputs": [
    {
     "data": {
      "text/plain": [
       "1275"
      ]
     },
     "execution_count": 7,
     "metadata": {},
     "output_type": "execute_result"
    }
   ],
   "source": [
    "(tempTick.isadd_3Tick == tempTick.TRAN_P2).sum()"
   ]
  }
 ],
 "metadata": {
  "kernelspec": {
   "display_name": "Python 3",
   "language": "python",
   "name": "python3"
  },
  "language_info": {
   "codemirror_mode": {
    "name": "ipython",
    "version": 3
   },
   "file_extension": ".py",
   "mimetype": "text/x-python",
   "name": "python",
   "nbconvert_exporter": "python",
   "pygments_lexer": "ipython3",
   "version": "3.6.3"
  }
 },
 "nbformat": 4,
 "nbformat_minor": 2
}
